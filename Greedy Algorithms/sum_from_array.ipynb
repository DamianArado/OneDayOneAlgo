{
  "nbformat": 4,
  "nbformat_minor": 0,
  "metadata": {
    "colab": {
      "name": "sum_from_array",
      "provenance": [],
      "collapsed_sections": []
    },
    "kernelspec": {
      "name": "python3",
      "display_name": "Python 3"
    }
  },
  "cells": [
    {
      "cell_type": "code",
      "metadata": {
        "id": "X4k68ynngQhH",
        "colab_type": "code",
        "colab": {
          "base_uri": "https://localhost:8080/",
          "height": 37
        },
        "outputId": "d801593c-9cbb-4b4d-cbd2-5cb9e2b5b064"
      },
      "source": [
        "#The code is to find two numbers from an array that match up to given number\n",
        "#logic is to create hashtable and get the value of complement \n",
        "arr=[2,3,5,7,9,8]\n",
        "summ=16\n",
        "hash={arr[i]:i for i in range(len(arr))}  #create hash of indices abd numbers\n",
        "for i in range(len(arr)):\n",
        "    complement=summ-arr[i]\n",
        "    second=hash.get(complement)  #get the value of second number\n",
        "    if second!=None:\n",
        "        print(arr[second],arr[i])\n",
        "        break"
      ],
      "execution_count": 15,
      "outputs": [
        {
          "output_type": "stream",
          "text": [
            "9 7\n"
          ],
          "name": "stdout"
        }
      ]
    }
  ]
}